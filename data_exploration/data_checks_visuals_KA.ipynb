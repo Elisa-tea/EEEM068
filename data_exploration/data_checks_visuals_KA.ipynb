{
 "cells": [
  {
   "cell_type": "code",
   "execution_count": null,
   "metadata": {
    "colab": {
     "base_uri": "https://localhost:8080/"
    },
    "executionInfo": {
     "elapsed": 21051,
     "status": "ok",
     "timestamp": 1742153258798,
     "user": {
      "displayName": "Kavitha A",
      "userId": "05923310822832297093"
     },
     "user_tz": 0
    },
    "id": "FUrn8O3DACP4",
    "outputId": "0d0acfe7-77a9-4c16-d75b-36da7dd6e9c8"
   },
   "outputs": [],
   "source": [
    "from google.colab import drive\n",
    "drive.mount('/content/drive')"
   ]
  },
  {
   "cell_type": "code",
   "execution_count": null,
   "metadata": {
    "executionInfo": {
     "elapsed": 453,
     "status": "ok",
     "timestamp": 1742153259252,
     "user": {
      "displayName": "Kavitha A",
      "userId": "05923310822832297093"
     },
     "user_tz": 0
    },
    "id": "do5u0GZGfcWy"
   },
   "outputs": [],
   "source": [
    "import os\n",
    "os.chdir('./drive/MyDrive/AML/Coursework')"
   ]
  },
  {
   "cell_type": "code",
   "execution_count": null,
   "metadata": {
    "id": "ezWcNB66APln"
   },
   "outputs": [],
   "source": [
    "#!unzip ./HMDB_simp.zip -d ./HMDB_simp"
   ]
  },
  {
   "cell_type": "code",
   "execution_count": null,
   "metadata": {
    "colab": {
     "base_uri": "https://localhost:8080/"
    },
    "executionInfo": {
     "elapsed": 101444,
     "status": "ok",
     "timestamp": 1741967938318,
     "user": {
      "displayName": "Kavitha A",
      "userId": "05923310822832297093"
     },
     "user_tz": 0
    },
    "id": "YBWzeuZZOz6R",
    "outputId": "1740ac07-acdf-4550-9fdd-11219a58fcb6"
   },
   "outputs": [],
   "source": [
    "#!pip install transformers torch torchvision datasets evaluate torchmetrics"
   ]
  },
  {
   "cell_type": "markdown",
   "metadata": {
    "id": "7NjqkzwpFZ2t"
   },
   "source": [
    "# Data"
   ]
  },
  {
   "cell_type": "markdown",
   "metadata": {
    "id": "okOhTovRFbzP"
   },
   "source": [
    "## Create dataset"
   ]
  },
  {
   "cell_type": "code",
   "execution_count": 1,
   "metadata": {
    "executionInfo": {
     "elapsed": 15,
     "status": "ok",
     "timestamp": 1742153259269,
     "user": {
      "displayName": "Kavitha A",
      "userId": "05923310822832297093"
     },
     "user_tz": 0
    },
    "id": "i2jJmcaGAuv1"
   },
   "outputs": [],
   "source": [
    "CATEGORY_INDEX = {\n",
    "    \"brush_hair\": 0,\n",
    "    \"cartwheel\": 1,\n",
    "    \"catch\": 2,\n",
    "    \"chew\": 3,\n",
    "    \"climb\": 4,\n",
    "    \"climb_stairs\": 5,\n",
    "    \"draw_sword\": 6,\n",
    "    \"eat\": 7,\n",
    "    \"fencing\": 8,\n",
    "    \"flic_flac\": 9,\n",
    "    \"golf\": 10,\n",
    "    \"handstand\": 11,\n",
    "    \"kiss\": 12,\n",
    "    \"pick\": 13,\n",
    "    \"pour\": 14,\n",
    "    \"pullup\": 15,\n",
    "    \"pushup\": 16,\n",
    "    \"ride_bike\": 17,\n",
    "    \"shoot_bow\": 18,\n",
    "    \"shoot_gun\": 19,\n",
    "    \"situp\": 20,\n",
    "    \"smile\": 21,\n",
    "    \"smoke\": 22,\n",
    "    \"throw\": 23,\n",
    "    \"wave\": 24\n",
    "}"
   ]
  },
  {
   "cell_type": "code",
   "execution_count": 2,
   "metadata": {
    "executionInfo": {
     "elapsed": 16949,
     "status": "ok",
     "timestamp": 1742153276220,
     "user": {
      "displayName": "Kavitha A",
      "userId": "05923310822832297093"
     },
     "user_tz": 0
    },
    "id": "P--_dzefBom3"
   },
   "outputs": [],
   "source": [
    "import os\n",
    "import torch\n",
    "import torchvision.transforms as transforms\n",
    "from torch.utils.data import Dataset, DataLoader\n",
    "from PIL import Image\n",
    "from tqdm.notebook import trange, tqdm\n",
    "\n",
    "# Transformation: Resize to 224x224 and Convert to Tensor\n",
    "transform = transforms.Compose([\n",
    "    transforms.Resize((224, 224)),\n",
    "    transforms.ToTensor()\n",
    "])\n",
    "\n",
    "def load_sampled_frames(frame_dir, frame_rate=8):\n",
    "    \"\"\"\n",
    "    Load every [frame_rate]-th frame from a directory and apply transformations.\n",
    "    \"\"\"\n",
    "    frame_files = sorted(os.listdir(frame_dir))  # Ensure frames are in order\n",
    "    sampled_frames = []\n",
    "    frame_metadata = []\n",
    "\n",
    "    for i in range(0, len(frame_files), frame_rate):\n",
    "        frame_path = os.path.join(frame_dir, frame_files[i])\n",
    "        frame = Image.open(frame_path).convert(\"RGB\")  # Convert to RGB\n",
    "        frame = transform(frame)  # Apply transformations\n",
    "        sampled_frames.append(frame)\n",
    "        frame_metadata.append({'index': i, 'used_in_clip': False, 'file_path': frame_path}) # Initially not used\n",
    "\n",
    "    return sampled_frames, frame_metadata  # List of torch tensors\n",
    "\n",
    "\n",
    "def create_clips(frames, frame_metadata, clip_size=8):\n",
    "    \"\"\"\n",
    "    Given a list of sampled frames, create multiple [clip_size]-frame clips.\n",
    "    \"\"\"\n",
    "    clips = []\n",
    "    clip_indices = []\n",
    "    updated_metadata = []\n",
    "    if len(frames) < clip_size:\n",
    "        return clips, updated_metadata, clip_indices  # Not enough frames to create a clip\n",
    "        \n",
    "    for i in range(0, len(frames) - clip_size + 1, clip_size):  # Sliding window\n",
    "        clip = torch.stack(frames[i:i + clip_size])  # Stack into (clip_size, 3, 224, 224)\n",
    "        clips.append(clip)\n",
    "        clip_indices.append([frame_metadata[j]['index'] for j in range(i, i + clip_size)])\n",
    "        clip_metadata = [frame_metadata[j]['file_path'] for j in range(i, i + clip_size)]\n",
    "        updated_metadata.append(clip_metadata)\n",
    "\n",
    "    return clips, updated_metadata, clip_indices\n"
   ]
  },
  {
   "cell_type": "code",
   "execution_count": 3,
   "metadata": {
    "executionInfo": {
     "elapsed": 0,
     "status": "ok",
     "timestamp": 1742153276231,
     "user": {
      "displayName": "Kavitha A",
      "userId": "05923310822832297093"
     },
     "user_tz": 0
    },
    "id": "EZ5uc9RyCaP8"
   },
   "outputs": [],
   "source": [
    "import random\n",
    "\n",
    "def split_sources(dataset_path, train_ratio=0.8):\n",
    "    \"\"\"\n",
    "    Splits source folders into train and val sets before processing clips.\n",
    "    Ensures that all clips from a source video stay in the same set.\n",
    "    \"\"\"\n",
    "    train_sources = {}\n",
    "    val_sources = {}\n",
    "\n",
    "    for category in os.listdir(dataset_path):  # Iterate over action categories\n",
    "        category_path = os.path.join(dataset_path, category)\n",
    "        if not os.path.isdir(category_path):\n",
    "            continue\n",
    "\n",
    "        instances = os.listdir(category_path)  # List all source folders (video IDs)\n",
    "        random.shuffle(instances)  # Shuffle instances before splitting\n",
    "\n",
    "        split_idx = int(len(instances) * train_ratio)\n",
    "        train_sources[category] = instances[:split_idx]  # First 80% for training\n",
    "        val_sources[category] = instances[split_idx:]  # Last 20% for validation\n",
    "\n",
    "    return train_sources, val_sources\n",
    "\n",
    "\n",
    "def process_dataset(dataset_path, sources_dict):\n",
    "    \"\"\"\n",
    "    Processes dataset based on a predefined list of sources.\n",
    "    \"\"\"\n",
    "    dataset = []\n",
    "    all_updated_metadata = []\n",
    "\n",
    "    for category, instances in tqdm(sources_dict.items()):\n",
    "        category_path = os.path.join(dataset_path, category)\n",
    "\n",
    "        for instance in instances:\n",
    "            instance_path = os.path.join(category_path, instance)\n",
    "            if not os.path.isdir(instance_path):\n",
    "                continue  # Skip non-directory files\n",
    "\n",
    "            # Load sampled frames\n",
    "            #frames = load_sampled_frames(instance_path)\n",
    "            frames, frame_metadata = load_sampled_frames(instance_path)\n",
    "\n",
    "            # Create 8-frame clips\n",
    "            #clips = create_clips(frames)\n",
    "            clips, updated_metadata, clip_indices = create_clips(frames, frame_metadata)\n",
    "\n",
    "            for i, clip in enumerate(clips):\n",
    "                dataset.append((clip, CATEGORY_INDEX[category]))  # Store (clip, label)\n",
    "                all_updated_metadata.append(updated_metadata[i])\n",
    "\n",
    "    return dataset, all_updated_metadata  # List of (clip, label)\n",
    "\n",
    "\n",
    "class VideoDataset(Dataset):\n",
    "    def __init__(self, dataset):\n",
    "        self.dataset = dataset\n",
    "\n",
    "    def __len__(self):\n",
    "        return len(self.dataset)\n",
    "\n",
    "    def __getitem__(self, idx):\n",
    "        clip, label = self.dataset[idx]\n",
    "        return clip, torch.tensor(label, dtype=torch.long)\n",
    "\n",
    "from torch.utils.data import default_collate\n",
    "\n",
    "class VideoDataCollator:\n",
    "    \"\"\"\n",
    "    Custom data collator for TimeSFormer.\n",
    "    Converts (clip, label) tuples into a dictionary format.\n",
    "    \"\"\"\n",
    "    def __call__(self, features):\n",
    "        clips, labels = zip(*features)  # Unpack (clip, label)\n",
    "        batch = {\n",
    "            \"pixel_values\": torch.stack(clips),  # Stack clips into batch\n",
    "            \"labels\": torch.tensor(labels, dtype=torch.long)  # Convert labels to tensor\n",
    "        }\n",
    "        return batch\n"
   ]
  },
  {
   "cell_type": "markdown",
   "metadata": {
    "id": "9npOqI17mxA-"
   },
   "source": [
    "### EDA"
   ]
  },
  {
   "cell_type": "code",
   "execution_count": 4,
   "metadata": {
    "executionInfo": {
     "elapsed": 3145,
     "status": "ok",
     "timestamp": 1742153279391,
     "user": {
      "displayName": "Kavitha A",
      "userId": "05923310822832297093"
     },
     "user_tz": 0
    },
    "id": "dFhR7Sa5p_US"
   },
   "outputs": [],
   "source": [
    "import matplotlib.pyplot as plt\n",
    "import os\n",
    "import seaborn as sns\n",
    "import pandas as pd"
   ]
  },
  {
   "cell_type": "code",
   "execution_count": 5,
   "metadata": {},
   "outputs": [],
   "source": [
    "DATASET_PATH = \"./HMDB_simp/HMDB_simp\"\n",
    "DATASET_PATH = \"./HMDB_simp\"\n"
   ]
  },
  {
   "cell_type": "code",
   "execution_count": 6,
   "metadata": {
    "colab": {
     "base_uri": "https://localhost:8080/"
    },
    "executionInfo": {
     "elapsed": 5,
     "status": "ok",
     "timestamp": 1742142543686,
     "user": {
      "displayName": "Kavitha A",
      "userId": "05923310822832297093"
     },
     "user_tz": 0
    },
    "id": "gGrbAO-zmut2",
    "outputId": "6d0d1a59-7090-4159-aa71-1eefcc882201"
   },
   "outputs": [
    {
     "data": {
      "text/plain": [
       "25"
      ]
     },
     "execution_count": 6,
     "metadata": {},
     "output_type": "execute_result"
    }
   ],
   "source": [
    "classes = [c for c in os.listdir(DATASET_PATH) if not c.startswith('.') and os.path.isdir(os.path.join(DATASET_PATH, c))]\n",
    "len(classes)"
   ]
  },
  {
   "cell_type": "code",
   "execution_count": 7,
   "metadata": {
    "colab": {
     "base_uri": "https://localhost:8080/",
     "height": 556
    },
    "executionInfo": {
     "elapsed": 302,
     "status": "ok",
     "timestamp": 1742142546410,
     "user": {
      "displayName": "Kavitha A",
      "userId": "05923310822832297093"
     },
     "user_tz": 0
    },
    "id": "UFdudCeOmuq-",
    "outputId": "fdc08e63-4bbe-40d0-d557-060ecffa74ef"
   },
   "outputs": [
    {
     "data": {
      "image/png": "[encoded data removed]",
      "text/plain": [
       "<Figure size 1000x500 with 1 Axes>"
      ]
     },
     "metadata": {},
     "output_type": "display_data"
    }
   ],
   "source": [
    "\n",
    "categories = []\n",
    "folder_counts = []\n",
    "\n",
    "for c in classes:\n",
    "    folder_path = os.path.join(DATASET_PATH, c)\n",
    "    total_files = len([f for f in os.listdir(folder_path) if not f.startswith('.')])  # Ignore hidden files\n",
    "\n",
    "    categories.append(c)\n",
    "    folder_counts.append(total_files)\n",
    "\n",
    "# Sort categories by file count\n",
    "sorted_categories, sorted_counts = zip(*sorted(zip(categories, folder_counts)))\n",
    "\n",
    "plt.figure(figsize=(10, 5))\n",
    "plt.bar(sorted_categories, sorted_counts, color='skyblue')\n",
    "plt.xlabel(\"Category\")\n",
    "plt.ylabel(\"Number of Files\")\n",
    "plt.title(\"File Distribution per Category\")\n",
    "plt.xticks(rotation=90)\n",
    "\n",
    "# Add numbers on top of bars\n",
    "for i, count in enumerate(sorted_counts):\n",
    "    plt.text(i, count + 0.5, str(count), ha='center', va='bottom', fontsize=10)\n",
    "\n",
    "plt.show()\n"
   ]
  },
  {
   "cell_type": "code",
   "execution_count": 8,
   "metadata": {
    "executionInfo": {
     "elapsed": 2144,
     "status": "ok",
     "timestamp": 1742142321414,
     "user": {
      "displayName": "Kavitha A",
      "userId": "05923310822832297093"
     },
     "user_tz": 0
    },
    "id": "i6fSym1kd4cx"
   },
   "outputs": [],
   "source": [
    "subfolders = []\n",
    "file_counts = []\n",
    "class_name = []\n",
    "\n",
    "for c in classes:\n",
    "    folder_path = os.path.join(DATASET_PATH, c)\n",
    "\n",
    "    for subfolder in os.listdir(folder_path):\n",
    "        subfolder_path = os.path.join(folder_path, subfolder)\n",
    "        if os.path.isdir(subfolder_path):\n",
    "            subfolder_files = len(os.listdir(subfolder_path))\n",
    "            #print(f\"{c}/{subfolder}: {subfolder_files}\")\n",
    "\n",
    "            # Store for plotting\n",
    "            subfolders.append(f\"{c}/{subfolder}\")\n",
    "            file_counts.append(subfolder_files)\n",
    "            class_name.append(c)\n",
    "\n",
    "\n",
    "df = pd.DataFrame({\"Class\": class_name, \"File Count\": file_counts})\n"
   ]
  },
  {
   "cell_type": "code",
   "execution_count": 9,
   "metadata": {
    "colab": {
     "base_uri": "https://localhost:8080/",
     "height": 588
    },
    "executionInfo": {
     "elapsed": 534,
     "status": "ok",
     "timestamp": 1742142324102,
     "user": {
      "displayName": "Kavitha A",
      "userId": "05923310822832297093"
     },
     "user_tz": 0
    },
    "id": "V9tnQMSjd4Ut",
    "outputId": "1d770933-b44e-4974-f516-fe6f2d9da759"
   },
   "outputs": [
    {
     "name": "stderr",
     "output_type": "stream",
     "text": [
      "/var/folders/9s/md4xnzf949vc59xqd_slzxy00000gn/T/ipykernel_16805/1305964851.py:3: FutureWarning: \n",
      "\n",
      "Passing `palette` without assigning `hue` is deprecated and will be removed in v0.14.0. Assign the `x` variable to `hue` and set `legend=False` for the same effect.\n",
      "\n",
      "  sns.boxplot(x=\"Class\", y=\"File Count\", data=df, palette=\"Set2\")\n"
     ]
    },
    {
     "data": {
      "image/png": "[encoded data removed]",
      "text/plain": [
       "<Figure size 700x400 with 1 Axes>"
      ]
     },
     "metadata": {},
     "output_type": "display_data"
    }
   ],
   "source": [
    "# Plot box plot\n",
    "plt.figure(figsize=(7, 4))\n",
    "sns.boxplot(x=\"Class\", y=\"File Count\", data=df, palette=\"Set2\")\n",
    "\n",
    "plt.xlabel(\"Category\")\n",
    "plt.ylabel(\"Number of Frames per Video\")\n",
    "plt.title(\"Distribution of Frames per Video per Class\")\n",
    "plt.xticks(rotation=90)\n",
    "plt.show()\n"
   ]
  },
  {
   "cell_type": "code",
   "execution_count": 10,
   "metadata": {
    "colab": {
     "base_uri": "https://localhost:8080/",
     "height": 588
    },
    "executionInfo": {
     "elapsed": 543,
     "status": "ok",
     "timestamp": 1742142327227,
     "user": {
      "displayName": "Kavitha A",
      "userId": "05923310822832297093"
     },
     "user_tz": 0
    },
    "id": "M2o1EUTMd4NV",
    "outputId": "746de09e-f315-4450-ec27-a58c2ed14014"
   },
   "outputs": [
    {
     "name": "stderr",
     "output_type": "stream",
     "text": [
      "/var/folders/9s/md4xnzf949vc59xqd_slzxy00000gn/T/ipykernel_16805/137124369.py:2: FutureWarning: \n",
      "\n",
      "Passing `palette` without assigning `hue` is deprecated and will be removed in v0.14.0. Assign the `x` variable to `hue` and set `legend=False` for the same effect.\n",
      "\n",
      "  sns.stripplot(x=\"Class\", y=\"File Count\", data=df, jitter=True, alpha=0.7, palette=\"Set2\")\n"
     ]
    },
    {
     "data": {
      "image/png": "[encoded data removed]",
      "text/plain": [
       "<Figure size 700x400 with 1 Axes>"
      ]
     },
     "metadata": {},
     "output_type": "display_data"
    }
   ],
   "source": [
    "plt.figure(figsize=(7, 4))\n",
    "sns.stripplot(x=\"Class\", y=\"File Count\", data=df, jitter=True, alpha=0.7, palette=\"Set2\")\n",
    "\n",
    "plt.xlabel(\"Category\")\n",
    "plt.ylabel(\"Number of Frames per Video per Class\")\n",
    "plt.title(\"Number of Frames per Video per Class\")\n",
    "plt.xticks(rotation=90)\n",
    "plt.show()\n"
   ]
  },
  {
   "cell_type": "code",
   "execution_count": 11,
   "metadata": {
    "colab": {
     "base_uri": "https://localhost:8080/",
     "height": 479
    },
    "executionInfo": {
     "elapsed": 787,
     "status": "ok",
     "timestamp": 1742145282335,
     "user": {
      "displayName": "Kavitha A",
      "userId": "05923310822832297093"
     },
     "user_tz": 0
    },
    "id": "03hoKFbWd4PP",
    "outputId": "3dd81825-eb9a-409f-d21a-baf027c3009c"
   },
   "outputs": [
    {
     "data": {
      "image/png": "[encoded data removed]",
      "text/plain": [
       "<Figure size 700x400 with 1 Axes>"
      ]
     },
     "metadata": {},
     "output_type": "display_data"
    }
   ],
   "source": [
    "import matplotlib.pyplot as plt\n",
    "\n",
    "# Aggregate total files per class\n",
    "class_totals = {c: 0 for c in set(class_name)}\n",
    "for c, count in zip(class_name, file_counts):\n",
    "    class_totals[c] += count\n",
    "\n",
    "# Sort alphabetically by class name\n",
    "sorted_classes = sorted(class_totals.keys())\n",
    "sorted_counts = [class_totals[c] for c in sorted_classes]\n",
    "\n",
    "plt.figure(figsize=(7, 4))\n",
    "bars = plt.bar(sorted_classes, sorted_counts, color=\"skyblue\")\n",
    "\n",
    "# Add text labels on top of each bar\n",
    "for bar, count in zip(bars, sorted_counts):\n",
    "    plt.text(bar.get_x() + bar.get_width() / 2, bar.get_height(), str(count),\n",
    "             ha=\"center\", va=\"bottom\", fontsize=7)\n",
    "\n",
    "plt.xlabel(\"Category\")\n",
    "plt.ylabel(\"Total Number of Frames\")\n",
    "plt.title(\"Total Frame Counts per Class\")\n",
    "plt.xticks(rotation=90)\n",
    "plt.show()\n"
   ]
  },
  {
   "cell_type": "markdown",
   "metadata": {
    "id": "HxDd6iw-0dso"
   },
   "source": [
    "### Split into train/test"
   ]
  },
  {
   "cell_type": "code",
   "execution_count": null,
   "metadata": {},
   "outputs": [],
   "source": [
    "dataset[0][1]"
   ]
  },
  {
   "cell_type": "code",
   "execution_count": null,
   "metadata": {},
   "outputs": [],
   "source": [
    "all_updated_metadata[0]"
   ]
  },
  {
   "cell_type": "code",
   "execution_count": null,
   "metadata": {},
   "outputs": [],
   "source": []
  },
  {
   "cell_type": "code",
   "execution_count": null,
   "metadata": {},
   "outputs": [],
   "source": [
    "'''\n",
    "def load_sampled_frames(frame_dir, frame_rate=8):\n",
    "    \"\"\"\n",
    "    Load every [frame_rate]-th frame from a directory and apply transformations.\n",
    "    \"\"\"\n",
    "    frame_files = sorted(os.listdir(frame_dir))  # Ensure frames are in order\n",
    "    sampled_frames = []\n",
    "    frame_metadata = []\n",
    "\n",
    "    for i in range(0, len(frame_files), frame_rate):\n",
    "        frame_path = os.path.join(frame_dir, frame_files[i])\n",
    "        frame = Image.open(frame_path).convert(\"RGB\")  # Convert to RGB\n",
    "        frame = transform(frame)  # Apply transformations\n",
    "        sampled_frames.append(frame)\n",
    "        frame_metadata.append({'index': i, 'used_in_clip': False, 'file_path': frame_path})  # Add file path to metadata\n",
    "\n",
    "    return sampled_frames, frame_metadata  # List of torch tensors\n",
    "\n",
    "\n",
    "def create_clips(frames, frame_metadata, clip_size=8):\n",
    "    \"\"\"\n",
    "    Given a list of sampled frames, create multiple [clip_size]-frame clips.\n",
    "    \"\"\"\n",
    "    clips = []\n",
    "    clip_indices = []\n",
    "    updated_metadata = []\n",
    "    if len(frames) < clip_size:\n",
    "        return clips, updated_metadata, clip_indices  # Not enough frames to create a clip\n",
    "    \n",
    "    for i in range(0, len(frames) - clip_size + 1, clip_size):  # Sliding window\n",
    "        clip = torch.stack(frames[i:i + clip_size])  # Stack into (clip_size, 3, 224, 224)\n",
    "        clips.append(clip)\n",
    "        clip_indices.append([frame_metadata[j]['index'] for j in range(i, i + clip_size)])\n",
    "\n",
    "        clip_metadata = [frame_metadata[j]['file_path'] for j in range(i, i + clip_size)]  # Collect file paths\n",
    "        updated_metadata.append(clip_metadata)\n",
    "\n",
    "        # Mark frames as used in a clip\n",
    "        for j in range(i, i + clip_size):\n",
    "            frame_metadata[j]['used_in_clip'] = True\n",
    "\n",
    "    return clips, updated_metadata, clip_indices\n",
    "\n",
    "\n",
    "# Main processing loop\n",
    "dataset = []\n",
    "all_updated_metadata = []\n",
    "\n",
    "for category, instances in tqdm(train_sources.items()):\n",
    "    category_path = os.path.join(DATASET_PATH, category)\n",
    "\n",
    "    for instance in instances:\n",
    "        instance_path = os.path.join(category_path, instance)\n",
    "        if not os.path.isdir(instance_path):\n",
    "            continue  # Skip non-directory files\n",
    "\n",
    "        # Load sampled frames\n",
    "        frames, frame_metadata = load_sampled_frames(instance_path)\n",
    "\n",
    "        # Create 8-frame clips\n",
    "        clips, updated_metadata, clip_indices = create_clips(frames, frame_metadata)\n",
    "\n",
    "        for i, clip in enumerate(clips):\n",
    "            dataset.append((clip, CATEGORY_INDEX[category]))  # Store (clip, label)\n",
    "            all_updated_metadata.append(updated_metadata[i])  # Append the list of file paths for each clip\n",
    "'''"
   ]
  },
  {
   "cell_type": "code",
   "execution_count": 12,
   "metadata": {},
   "outputs": [
    {
     "ename": "NameError",
     "evalue": "name 'all_updated_metadata' is not defined",
     "output_type": "error",
     "traceback": [
      "\u001b[0;31m---------------------------------------------------------------------------\u001b[0m",
      "\u001b[0;31mNameError\u001b[0m                                 Traceback (most recent call last)",
      "Cell \u001b[0;32mIn[12], line 1\u001b[0m\n\u001b[0;32m----> 1\u001b[0m \u001b[38;5;28mlen\u001b[39m(all_updated_metadata)\n",
      "\u001b[0;31mNameError\u001b[0m: name 'all_updated_metadata' is not defined"
     ]
    }
   ],
   "source": [
    "len(all_updated_metadata)"
   ]
  },
  {
   "cell_type": "code",
   "execution_count": null,
   "metadata": {},
   "outputs": [],
   "source": [
    "all_updated_metadata"
   ]
  },
  {
   "cell_type": "code",
   "execution_count": null,
   "metadata": {},
   "outputs": [],
   "source": [
    "prefix = './HMDB_simp/brush_hair'\n",
    "\n",
    "# Find items that start with the prefix\n",
    "matching_items = []\n",
    "for metadata_list in all_updated_metadata:\n",
    "    # Filter the items in the inner list that start with the prefix\n",
    "    matching_items.extend([item for item in metadata_list if item.startswith(prefix)])\n",
    "\n",
    "matching_items"
   ]
  },
  {
   "cell_type": "code",
   "execution_count": null,
   "metadata": {},
   "outputs": [],
   "source": [
    "prefix = './HMDB_simp/brush_hair/'\n",
    "\n",
    "unique_folders = set(os.path.dirname(item) for item in matching_items if item.startswith(prefix))\n",
    "\n",
    "# Count the number of unique folder paths\n",
    "unique_folder_count = len(unique_folders)"
   ]
  },
  {
   "cell_type": "code",
   "execution_count": null,
   "metadata": {},
   "outputs": [],
   "source": [
    "folder_names = [f\"{path.split('/')[2]}/{path.split('/')[3]}\" for sublist in all_updated_metadata for path in sublist]\n",
    "\n",
    "# Count occurrences of each folder\n",
    "folder_counts = Counter(folder_names)\n",
    "\n",
    "# Print the count for all folders\n",
    "#for folder, count in folder_counts.items():\n",
    "#    print(f\"Folder '{folder}' appears {count} times\")\n",
    "\n",
    "for folder in sorted(folder_counts.keys()):\n",
    "    print(f\"Folder '{folder}' appears {folder_counts[folder]} times\")"
   ]
  },
  {
   "cell_type": "code",
   "execution_count": null,
   "metadata": {},
   "outputs": [],
   "source": []
  },
  {
   "cell_type": "code",
   "execution_count": 13,
   "metadata": {
    "executionInfo": {
     "elapsed": 15620,
     "status": "ok",
     "timestamp": 1742159031981,
     "user": {
      "displayName": "Kavitha A",
      "userId": "05923310822832297093"
     },
     "user_tz": 0
    },
    "id": "dWD2A1WTCTO7"
   },
   "outputs": [],
   "source": [
    "# Split source folders into train & val\n",
    "train_sources, val_sources = split_sources(DATASET_PATH)"
   ]
  },
  {
   "cell_type": "code",
   "execution_count": 14,
   "metadata": {
    "colab": {
     "base_uri": "https://localhost:8080/",
     "height": 99,
     "referenced_widgets": [
      "e352ccd0353c46e29e4fe7f1b908b8ef",
      "4c8966a081864de8b167d0732f0fca62",
      "e0ce3809dad54abeb5e3ef5cb8b33417",
      "d85e240ef0d94c5b8e2a282d542b6ce0",
      "8c322d789fda487ea247e09a5e96438e",
      "630b9319bd0c4796a1c0bb66f4caa8aa",
      "183560441ce140c881f758ef3bec1cc3",
      "a3bfd808eaca4c07b5a0955b972577bb",
      "f37365ae991b45859c1f92ae1215d872",
      "3ab56abc102a4dc496e90fe94c2619bf",
      "9b8e50c2f1c74eef96a500b391498773",
      "e92d7b4393c74ea8b0f7b09d9e7044a6",
      "57ca793e03b246a085eb585f25ee2f79",
      "1e4fd76f39c845afa631da4f5dfbe2b7",
      "6763c8c1302d42ddb41b86c84217a1f3",
      "6ed37e1af0804308a2f0e2f43df0320a",
      "6af4bcbd644a40adbefb72040a800fb3",
      "7e2f3511feb245ddae0f1b6a2d662c49",
      "45fda277d77644bf87faba72876d509e",
      "93fbafd349c14257bc2aaac5499cf7fa",
      "796df103f8eb448dabd25d32bbc5fb10",
      "9519a032a72c43cb98ab8c563c032a4f"
     ]
    },
    "executionInfo": {
     "elapsed": 2074572,
     "status": "ok",
     "timestamp": 1742162750920,
     "user": {
      "displayName": "Kavitha A",
      "userId": "05923310822832297093"
     },
     "user_tz": 0
    },
    "id": "elqeDOaJ1wQJ",
    "outputId": "db008251-292e-44fc-c55d-b1a3f8aa1bbf"
   },
   "outputs": [
    {
     "data": {
      "application/vnd.jupyter.widget-view+json": {
       "model_id": "858a465aec414dda9b2e883714db570e",
       "version_major": 2,
       "version_minor": 0
      },
      "text/plain": [
       "  0%|          | 0/25 [00:00<?, ?it/s]"
      ]
     },
     "metadata": {},
     "output_type": "display_data"
    },
    {
     "data": {
      "application/vnd.jupyter.widget-view+json": {
       "model_id": "6eb8e0e26e3e4a9788c22b890b305649",
       "version_major": 2,
       "version_minor": 0
      },
      "text/plain": [
       "  0%|          | 0/25 [00:00<?, ?it/s]"
      ]
     },
     "metadata": {},
     "output_type": "display_data"
    },
    {
     "name": "stdout",
     "output_type": "stream",
     "text": [
      "Total clips: 1627, Train: 1292, Val: 335\n"
     ]
    }
   ],
   "source": [
    "# Process train and val sets separately\n",
    "train_dataset, train_metadata = process_dataset(DATASET_PATH, train_sources)\n",
    "val_dataset, val_metadata = process_dataset(DATASET_PATH, val_sources)\n",
    "\n",
    "dataset_size = len(train_dataset) + len(val_dataset)\n",
    "\n",
    "print(f\"Total clips: {dataset_size}, Train: {len(train_dataset)}, Val: {len(val_dataset)}\")"
   ]
  },
  {
   "cell_type": "code",
   "execution_count": 15,
   "metadata": {},
   "outputs": [
    {
     "data": {
      "text/plain": [
       "(torch.Size([8, 3, 224, 224]), 17)"
      ]
     },
     "execution_count": 15,
     "metadata": {},
     "output_type": "execute_result"
    }
   ],
   "source": [
    "(train_dataset[0][0]).shape, train_dataset[0][1]"
   ]
  },
  {
   "cell_type": "code",
   "execution_count": 16,
   "metadata": {},
   "outputs": [
    {
     "data": {
      "text/plain": [
       "['./HMDB_simp/ride_bike/7FDA6503/0001.jpg',\n",
       " './HMDB_simp/ride_bike/7FDA6503/0009.jpg',\n",
       " './HMDB_simp/ride_bike/7FDA6503/0017.jpg',\n",
       " './HMDB_simp/ride_bike/7FDA6503/0025.jpg',\n",
       " './HMDB_simp/ride_bike/7FDA6503/0033.jpg',\n",
       " './HMDB_simp/ride_bike/7FDA6503/0041.jpg',\n",
       " './HMDB_simp/ride_bike/7FDA6503/0049.jpg',\n",
       " './HMDB_simp/ride_bike/7FDA6503/0057.jpg']"
      ]
     },
     "execution_count": 16,
     "metadata": {},
     "output_type": "execute_result"
    }
   ],
   "source": [
    "train_metadata[0]"
   ]
  },
  {
   "cell_type": "code",
   "execution_count": 17,
   "metadata": {
    "colab": {
     "base_uri": "https://localhost:8080/"
    },
    "executionInfo": {
     "elapsed": 46,
     "status": "ok",
     "timestamp": 1742162914941,
     "user": {
      "displayName": "Kavitha A",
      "userId": "05923310822832297093"
     },
     "user_tz": 0
    },
    "id": "tIGY6mEK_Mtk",
    "outputId": "c6944ea5-836f-4a92-e7fa-65775860320c"
   },
   "outputs": [
    {
     "name": "stdout",
     "output_type": "stream",
     "text": [
      "train dataset: (1292, <class 'list'>)\n",
      "val dataset: (335, <class 'list'>)\n"
     ]
    }
   ],
   "source": [
    "print(f\"train dataset: {len(train_dataset), type(train_dataset)}\")\n",
    "print(f\"val dataset: {len(val_dataset), type(val_dataset)}\")"
   ]
  },
  {
   "cell_type": "code",
   "execution_count": null,
   "metadata": {
    "colab": {
     "base_uri": "https://localhost:8080/"
    },
    "executionInfo": {
     "elapsed": 15,
     "status": "ok",
     "timestamp": 1742162931268,
     "user": {
      "displayName": "Kavitha A",
      "userId": "05923310822832297093"
     },
     "user_tz": 0
    },
    "id": "_jskxonSVy2h",
    "outputId": "9cc97682-bb62-443f-bfb2-627ca1573f81"
   },
   "outputs": [],
   "source": [
    "len(val_dataset[0]),type(val_dataset[0])"
   ]
  },
  {
   "cell_type": "code",
   "execution_count": null,
   "metadata": {},
   "outputs": [],
   "source": [
    "train_dataset"
   ]
  },
  {
   "cell_type": "code",
   "execution_count": null,
   "metadata": {
    "colab": {
     "base_uri": "https://localhost:8080/"
    },
    "executionInfo": {
     "elapsed": 12,
     "status": "ok",
     "timestamp": 1742162987616,
     "user": {
      "displayName": "Kavitha A",
      "userId": "05923310822832297093"
     },
     "user_tz": 0
    },
    "id": "V0NJHakDVywl",
    "outputId": "ead29d95-0233-467c-a6fe-1fd931db84b3"
   },
   "outputs": [],
   "source": [
    "(train_dataset[315][0]).shape, (val_dataset[315][0]).shape"
   ]
  },
  {
   "cell_type": "code",
   "execution_count": 18,
   "metadata": {
    "colab": {
     "base_uri": "https://localhost:8080/"
    },
    "executionInfo": {
     "elapsed": 12,
     "status": "ok",
     "timestamp": 1742162823532,
     "user": {
      "displayName": "Kavitha A",
      "userId": "05923310822832297093"
     },
     "user_tz": 0
    },
    "id": "2ei2IyjI_vdg",
    "outputId": "dc24c1f6-d86d-43a1-a754-3a00504fd101"
   },
   "outputs": [],
   "source": [
    "from collections import Counter\n",
    "\n",
    "def count_classes(dataset):\n",
    "    \"\"\"\n",
    "    Counts the occurrences of each class label in a dataset and prints \n",
    "    the counts in ascending order of class labels.\n",
    "    \"\"\"\n",
    "    class_counts = Counter(label for _, label in dataset)\n",
    "    sorted_class_counts = dict(sorted(class_counts.items()))\n",
    "\n",
    "    for class_label, count in sorted_class_counts.items():\n",
    "        print(f\"Class {class_label}: {count} clips of 8\")\n",
    "\n",
    "    return sorted_class_counts\n"
   ]
  },
  {
   "cell_type": "code",
   "execution_count": 19,
   "metadata": {
    "colab": {
     "base_uri": "https://localhost:8080/"
    },
    "executionInfo": {
     "elapsed": 44,
     "status": "ok",
     "timestamp": 1742162811572,
     "user": {
      "displayName": "Kavitha A",
      "userId": "05923310822832297093"
     },
     "user_tz": 0
    },
    "id": "FB8DIqMIVyzs",
    "outputId": "4c8eef00-4d3e-4720-ec95-6b23593df970"
   },
   "outputs": [
    {
     "name": "stdout",
     "output_type": "stream",
     "text": [
      "train_dataset\n",
      "Class 0: 155 clips of 8\n",
      "Class 1: 33 clips of 8\n",
      "Class 2: 2 clips of 8\n",
      "Class 3: 47 clips of 8\n",
      "Class 4: 93 clips of 8\n",
      "Class 5: 35 clips of 8\n",
      "Class 6: 35 clips of 8\n",
      "Class 7: 36 clips of 8\n",
      "Class 8: 29 clips of 8\n",
      "Class 9: 30 clips of 8\n",
      "Class 10: 39 clips of 8\n",
      "Class 11: 40 clips of 8\n",
      "Class 12: 102 clips of 8\n",
      "Class 13: 39 clips of 8\n",
      "Class 14: 81 clips of 8\n",
      "Class 15: 39 clips of 8\n",
      "Class 16: 45 clips of 8\n",
      "Class 17: 46 clips of 8\n",
      "Class 18: 95 clips of 8\n",
      "Class 19: 45 clips of 8\n",
      "Class 20: 43 clips of 8\n",
      "Class 21: 29 clips of 8\n",
      "Class 22: 79 clips of 8\n",
      "Class 23: 45 clips of 8\n",
      "Class 24: 30 clips of 8\n",
      "\n",
      "val_dataset\n",
      "Class 0: 33 clips of 8\n",
      "Class 1: 8 clips of 8\n",
      "Class 3: 13 clips of 8\n",
      "Class 4: 18 clips of 8\n",
      "Class 5: 10 clips of 8\n",
      "Class 6: 8 clips of 8\n",
      "Class 7: 16 clips of 8\n",
      "Class 8: 6 clips of 8\n",
      "Class 9: 10 clips of 8\n",
      "Class 10: 11 clips of 8\n",
      "Class 11: 10 clips of 8\n",
      "Class 12: 22 clips of 8\n",
      "Class 13: 11 clips of 8\n",
      "Class 14: 31 clips of 8\n",
      "Class 15: 11 clips of 8\n",
      "Class 16: 13 clips of 8\n",
      "Class 17: 13 clips of 8\n",
      "Class 18: 25 clips of 8\n",
      "Class 19: 9 clips of 8\n",
      "Class 20: 11 clips of 8\n",
      "Class 21: 9 clips of 8\n",
      "Class 22: 18 clips of 8\n",
      "Class 23: 12 clips of 8\n",
      "Class 24: 7 clips of 8\n"
     ]
    }
   ],
   "source": [
    "print(\"train_dataset\")\n",
    "count_classes(train_dataset); \n",
    "print(\"\")\n",
    "print(\"val_dataset\")\n",
    "count_classes(val_dataset);"
   ]
  },
  {
   "cell_type": "code",
   "execution_count": null,
   "metadata": {
    "id": "H56lDX3dVyrE"
   },
   "outputs": [],
   "source": []
  },
  {
   "cell_type": "code",
   "execution_count": null,
   "metadata": {
    "id": "P8jas5C2VyoO"
   },
   "outputs": [],
   "source": []
  },
  {
   "cell_type": "code",
   "execution_count": null,
   "metadata": {
    "id": "cz0lNr2vVylM"
   },
   "outputs": [],
   "source": []
  },
  {
   "cell_type": "markdown",
   "metadata": {
    "id": "E38OobPnIIb6"
   },
   "source": [
    "# Train"
   ]
  },
  {
   "cell_type": "markdown",
   "metadata": {
    "id": "S2Jrj0STIKLa"
   },
   "source": [
    "## TimeSFormer"
   ]
  },
  {
   "cell_type": "code",
   "execution_count": null,
   "metadata": {
    "colab": {
     "base_uri": "https://localhost:8080/"
    },
    "id": "FSbE-vwYICqB",
    "outputId": "565ed3d1-663c-41cd-98cf-b0a55c35c2fc"
   },
   "outputs": [],
   "source": [
    "from transformers import AutoFeatureExtractor, AutoModelForVideoClassification\n",
    "\n",
    "extractor = AutoFeatureExtractor.from_pretrained(\"facebook/timesformer-base-finetuned-k400\")\n",
    "model = AutoModelForVideoClassification.from_pretrained(\n",
    "    \"facebook/timesformer-base-finetuned-k400\",\n",
    "    num_labels=len(CATEGORY_INDEX),  # Adjust for our dataset\n",
    "    ignore_mismatched_sizes=True,\n",
    ")\n",
    "\n",
    "# Send model to GPU if available\n",
    "device = torch.device(\"cuda\" if torch.cuda.is_available() else \"cpu\")\n",
    "model.to(device)\n",
    "print(f\"Model on: {device}\")"
   ]
  },
  {
   "cell_type": "code",
   "execution_count": null,
   "metadata": {
    "id": "FZCcJnr2JL5X"
   },
   "outputs": [],
   "source": [
    "import torch\n",
    "import torch.nn as nn\n",
    "import torch.optim as optim\n",
    "import torchmetrics\n",
    "import evaluate\n",
    "import numpy as np\n",
    "from transformers import AutoFeatureExtractor, AutoModelForVideoClassification, TrainingArguments, Trainer\n",
    "\n",
    "accuracy_metric = evaluate.load(\"accuracy\")\n",
    "f1_metric = evaluate.load(\"f1\")\n",
    "top5_metric = torchmetrics.classification.Accuracy(top_k=5, task=\"multiclass\", num_classes=len(CATEGORY_INDEX)).to(device)\n",
    "\n",
    "# Compute Metrics Function\n",
    "def compute_metrics(eval_pred):\n",
    "    logits, labels = eval_pred\n",
    "    predictions = torch.tensor(logits).argmax(dim=1)\n",
    "\n",
    "    # Compute Accuracy\n",
    "    top1_acc = accuracy_metric.compute(predictions=predictions.numpy(), references=labels)[\"accuracy\"]\n",
    "\n",
    "    # Compute Top-5 Accuracy\n",
    "    top5_acc = top5_metric(torch.tensor(logits).to(device), torch.tensor(labels).to(device)).item()\n",
    "\n",
    "    # Compute F1-score (macro)\n",
    "    f1 = f1_metric.compute(predictions=predictions.numpy(), references=labels, average=\"macro\")[\"f1\"]\n",
    "\n",
    "    return {\n",
    "        \"accuracy\": top1_acc,\n",
    "        \"top-5 accuracy\": top5_acc,\n",
    "        \"f1-score\": f1\n",
    "    }"
   ]
  },
  {
   "cell_type": "code",
   "execution_count": null,
   "metadata": {
    "colab": {
     "base_uri": "https://localhost:8080/",
     "height": 512
    },
    "id": "ARn0w9fRK1q3",
    "outputId": "f27f8ae2-67d7-4dc6-c844-79e84d5a7c0a"
   },
   "outputs": [],
   "source": [
    "training_args = TrainingArguments(\n",
    "    output_dir=\"./timesformer_output\",  # Save checkpoints\n",
    "    evaluation_strategy=\"epoch\",  # Evaluate after every epoch\n",
    "    save_strategy=\"epoch\",  # Save model after each epoch\n",
    "    per_device_train_batch_size=4,\n",
    "    per_device_eval_batch_size=4,\n",
    "    num_train_epochs=5,\n",
    "    learning_rate=5e-5,\n",
    "    weight_decay=0.01,\n",
    "    logging_dir=\"./logs\",  # TensorBoard logs\n",
    "    logging_steps=10,\n",
    "    save_total_limit=2,  # Keep only last 2 checkpoints\n",
    "    load_best_model_at_end=True,\n",
    "    metric_for_best_model=\"accuracy\",\n",
    "    push_to_hub=False\n",
    ")\n",
    "\n",
    "data_collator = VideoDataCollator()\n",
    "# Initialize Trainer\n",
    "trainer = Trainer(\n",
    "    model=model,\n",
    "    args=training_args,\n",
    "    train_dataset=train_dataset,\n",
    "    eval_dataset=val_dataset,\n",
    "    tokenizer=extractor,  # Feature extractor\n",
    "    compute_metrics=compute_metrics,\n",
    "    data_collator=data_collator\n",
    ")\n",
    "\n",
    "# Train Model\n",
    "trainer.train()"
   ]
  },
  {
   "cell_type": "code",
   "execution_count": null,
   "metadata": {
    "id": "oau7CjykRFFN"
   },
   "outputs": [],
   "source": []
  }
 ],
 "metadata": {
  "colab": {
   "provenance": []
  },
  "kernelspec": {
   "display_name": "Python 3 (ipykernel)",
   "language": "python",
   "name": "python3"
  },
  "language_info": {
   "codemirror_mode": {
    "name": "ipython",
    "version": 3
   },
   "file_extension": ".py",
   "mimetype": "text/x-python",
   "name": "python",
   "nbconvert_exporter": "python",
   "pygments_lexer": "ipython3",
   "version": "3.12.4"
  },
  "widgets": {
   "application/vnd.jupyter.widget-state+json": {
    "183560441ce140c881f758ef3bec1cc3": {
     "model_module": "@jupyter-widgets/controls",
     "model_module_version": "1.5.0",
     "model_name": "DescriptionStyleModel",
     "state": {
      "_model_module": "@jupyter-widgets/controls",
      "_model_module_version": "1.5.0",
      "_model_name": "DescriptionStyleModel",
      "_view_count": null,
      "_view_module": "@jupyter-widgets/base",
      "_view_module_version": "1.2.0",
      "_view_name": "StyleView",
      "description_width": ""
     }
    },
    "1e4fd76f39c845afa631da4f5dfbe2b7": {
     "model_module": "@jupyter-widgets/controls",
     "model_module_version": "1.5.0",
     "model_name": "FloatProgressModel",
     "state": {
      "_dom_classes": [],
      "_model_module": "@jupyter-widgets/controls",
      "_model_module_version": "1.5.0",
      "_model_name": "FloatProgressModel",
      "_view_count": null,
      "_view_module": "@jupyter-widgets/controls",
      "_view_module_version": "1.5.0",
      "_view_name": "ProgressView",
      "bar_style": "success",
      "description": "",
      "description_tooltip": null,
      "layout": "IPY_MODEL_45fda277d77644bf87faba72876d509e",
      "max": 25,
      "min": 0,
      "orientation": "horizontal",
      "style": "IPY_MODEL_93fbafd349c14257bc2aaac5499cf7fa",
      "value": 25
     }
    },
    "3ab56abc102a4dc496e90fe94c2619bf": {
     "model_module": "@jupyter-widgets/base",
     "model_module_version": "1.2.0",
     "model_name": "LayoutModel",
     "state": {
      "_model_module": "@jupyter-widgets/base",
      "_model_module_version": "1.2.0",
      "_model_name": "LayoutModel",
      "_view_count": null,
      "_view_module": "@jupyter-widgets/base",
      "_view_module_version": "1.2.0",
      "_view_name": "LayoutView",
      "align_content": null,
      "align_items": null,
      "align_self": null,
      "border": null,
      "bottom": null,
      "display": null,
      "flex": null,
      "flex_flow": null,
      "grid_area": null,
      "grid_auto_columns": null,
      "grid_auto_flow": null,
      "grid_auto_rows": null,
      "grid_column": null,
      "grid_gap": null,
      "grid_row": null,
      "grid_template_areas": null,
      "grid_template_columns": null,
      "grid_template_rows": null,
      "height": null,
      "justify_content": null,
      "justify_items": null,
      "left": null,
      "margin": null,
      "max_height": null,
      "max_width": null,
      "min_height": null,
      "min_width": null,
      "object_fit": null,
      "object_position": null,
      "order": null,
      "overflow": null,
      "overflow_x": null,
      "overflow_y": null,
      "padding": null,
      "right": null,
      "top": null,
      "visibility": null,
      "width": null
     }
    },
    "45fda277d77644bf87faba72876d509e": {
     "model_module": "@jupyter-widgets/base",
     "model_module_version": "1.2.0",
     "model_name": "LayoutModel",
     "state": {
      "_model_module": "@jupyter-widgets/base",
      "_model_module_version": "1.2.0",
      "_model_name": "LayoutModel",
      "_view_count": null,
      "_view_module": "@jupyter-widgets/base",
      "_view_module_version": "1.2.0",
      "_view_name": "LayoutView",
      "align_content": null,
      "align_items": null,
      "align_self": null,
      "border": null,
      "bottom": null,
      "display": null,
      "flex": null,
      "flex_flow": null,
      "grid_area": null,
      "grid_auto_columns": null,
      "grid_auto_flow": null,
      "grid_auto_rows": null,
      "grid_column": null,
      "grid_gap": null,
      "grid_row": null,
      "grid_template_areas": null,
      "grid_template_columns": null,
      "grid_template_rows": null,
      "height": null,
      "justify_content": null,
      "justify_items": null,
      "left": null,
      "margin": null,
      "max_height": null,
      "max_width": null,
      "min_height": null,
      "min_width": null,
      "object_fit": null,
      "object_position": null,
      "order": null,
      "overflow": null,
      "overflow_x": null,
      "overflow_y": null,
      "padding": null,
      "right": null,
      "top": null,
      "visibility": null,
      "width": null
     }
    },
    "4c8966a081864de8b167d0732f0fca62": {
     "model_module": "@jupyter-widgets/controls",
     "model_module_version": "1.5.0",
     "model_name": "HTMLModel",
     "state": {
      "_dom_classes": [],
      "_model_module": "@jupyter-widgets/controls",
      "_model_module_version": "1.5.0",
      "_model_name": "HTMLModel",
      "_view_count": null,
      "_view_module": "@jupyter-widgets/controls",
      "_view_module_version": "1.5.0",
      "_view_name": "HTMLView",
      "description": "",
      "description_tooltip": null,
      "layout": "IPY_MODEL_630b9319bd0c4796a1c0bb66f4caa8aa",
      "placeholder": "​",
      "style": "IPY_MODEL_183560441ce140c881f758ef3bec1cc3",
      "value": "100%"
     }
    },
    "57ca793e03b246a085eb585f25ee2f79": {
     "model_module": "@jupyter-widgets/controls",
     "model_module_version": "1.5.0",
     "model_name": "HTMLModel",
     "state": {
      "_dom_classes": [],
      "_model_module": "@jupyter-widgets/controls",
      "_model_module_version": "1.5.0",
      "_model_name": "HTMLModel",
      "_view_count": null,
      "_view_module": "@jupyter-widgets/controls",
      "_view_module_version": "1.5.0",
      "_view_name": "HTMLView",
      "description": "",
      "description_tooltip": null,
      "layout": "IPY_MODEL_6af4bcbd644a40adbefb72040a800fb3",
      "placeholder": "​",
      "style": "IPY_MODEL_7e2f3511feb245ddae0f1b6a2d662c49",
      "value": "100%"
     }
    },
    "630b9319bd0c4796a1c0bb66f4caa8aa": {
     "model_module": "@jupyter-widgets/base",
     "model_module_version": "1.2.0",
     "model_name": "LayoutModel",
     "state": {
      "_model_module": "@jupyter-widgets/base",
      "_model_module_version": "1.2.0",
      "_model_name": "LayoutModel",
      "_view_count": null,
      "_view_module": "@jupyter-widgets/base",
      "_view_module_version": "1.2.0",
      "_view_name": "LayoutView",
      "align_content": null,
      "align_items": null,
      "align_self": null,
      "border": null,
      "bottom": null,
      "display": null,
      "flex": null,
      "flex_flow": null,
      "grid_area": null,
      "grid_auto_columns": null,
      "grid_auto_flow": null,
      "grid_auto_rows": null,
      "grid_column": null,
      "grid_gap": null,
      "grid_row": null,
      "grid_template_areas": null,
      "grid_template_columns": null,
      "grid_template_rows": null,
      "height": null,
      "justify_content": null,
      "justify_items": null,
      "left": null,
      "margin": null,
      "max_height": null,
      "max_width": null,
      "min_height": null,
      "min_width": null,
      "object_fit": null,
      "object_position": null,
      "order": null,
      "overflow": null,
      "overflow_x": null,
      "overflow_y": null,
      "padding": null,
      "right": null,
      "top": null,
      "visibility": null,
      "width": null
     }
    },
    "6763c8c1302d42ddb41b86c84217a1f3": {
     "model_module": "@jupyter-widgets/controls",
     "model_module_version": "1.5.0",
     "model_name": "HTMLModel",
     "state": {
      "_dom_classes": [],
      "_model_module": "@jupyter-widgets/controls",
      "_model_module_version": "1.5.0",
      "_model_name": "HTMLModel",
      "_view_count": null,
      "_view_module": "@jupyter-widgets/controls",
      "_view_module_version": "1.5.0",
      "_view_name": "HTMLView",
      "description": "",
      "description_tooltip": null,
      "layout": "IPY_MODEL_796df103f8eb448dabd25d32bbc5fb10",
      "placeholder": "​",
      "style": "IPY_MODEL_9519a032a72c43cb98ab8c563c032a4f",
      "value": " 25/25 [12:12&lt;00:00, 34.65s/it]"
     }
    },
    "6af4bcbd644a40adbefb72040a800fb3": {
     "model_module": "@jupyter-widgets/base",
     "model_module_version": "1.2.0",
     "model_name": "LayoutModel",
     "state": {
      "_model_module": "@jupyter-widgets/base",
      "_model_module_version": "1.2.0",
      "_model_name": "LayoutModel",
      "_view_count": null,
      "_view_module": "@jupyter-widgets/base",
      "_view_module_version": "1.2.0",
      "_view_name": "LayoutView",
      "align_content": null,
      "align_items": null,
      "align_self": null,
      "border": null,
      "bottom": null,
      "display": null,
      "flex": null,
      "flex_flow": null,
      "grid_area": null,
      "grid_auto_columns": null,
      "grid_auto_flow": null,
      "grid_auto_rows": null,
      "grid_column": null,
      "grid_gap": null,
      "grid_row": null,
      "grid_template_areas": null,
      "grid_template_columns": null,
      "grid_template_rows": null,
      "height": null,
      "justify_content": null,
      "justify_items": null,
      "left": null,
      "margin": null,
      "max_height": null,
      "max_width": null,
      "min_height": null,
      "min_width": null,
      "object_fit": null,
      "object_position": null,
      "order": null,
      "overflow": null,
      "overflow_x": null,
      "overflow_y": null,
      "padding": null,
      "right": null,
      "top": null,
      "visibility": null,
      "width": null
     }
    },
    "6ed37e1af0804308a2f0e2f43df0320a": {
     "model_module": "@jupyter-widgets/base",
     "model_module_version": "1.2.0",
     "model_name": "LayoutModel",
     "state": {
      "_model_module": "@jupyter-widgets/base",
      "_model_module_version": "1.2.0",
      "_model_name": "LayoutModel",
      "_view_count": null,
      "_view_module": "@jupyter-widgets/base",
      "_view_module_version": "1.2.0",
      "_view_name": "LayoutView",
      "align_content": null,
      "align_items": null,
      "align_self": null,
      "border": null,
      "bottom": null,
      "display": null,
      "flex": null,
      "flex_flow": null,
      "grid_area": null,
      "grid_auto_columns": null,
      "grid_auto_flow": null,
      "grid_auto_rows": null,
      "grid_column": null,
      "grid_gap": null,
      "grid_row": null,
      "grid_template_areas": null,
      "grid_template_columns": null,
      "grid_template_rows": null,
      "height": null,
      "justify_content": null,
      "justify_items": null,
      "left": null,
      "margin": null,
      "max_height": null,
      "max_width": null,
      "min_height": null,
      "min_width": null,
      "object_fit": null,
      "object_position": null,
      "order": null,
      "overflow": null,
      "overflow_x": null,
      "overflow_y": null,
      "padding": null,
      "right": null,
      "top": null,
      "visibility": null,
      "width": null
     }
    },
    "796df103f8eb448dabd25d32bbc5fb10": {
     "model_module": "@jupyter-widgets/base",
     "model_module_version": "1.2.0",
     "model_name": "LayoutModel",
     "state": {
      "_model_module": "@jupyter-widgets/base",
      "_model_module_version": "1.2.0",
      "_model_name": "LayoutModel",
      "_view_count": null,
      "_view_module": "@jupyter-widgets/base",
      "_view_module_version": "1.2.0",
      "_view_name": "LayoutView",
      "align_content": null,
      "align_items": null,
      "align_self": null,
      "border": null,
      "bottom": null,
      "display": null,
      "flex": null,
      "flex_flow": null,
      "grid_area": null,
      "grid_auto_columns": null,
      "grid_auto_flow": null,
      "grid_auto_rows": null,
      "grid_column": null,
      "grid_gap": null,
      "grid_row": null,
      "grid_template_areas": null,
      "grid_template_columns": null,
      "grid_template_rows": null,
      "height": null,
      "justify_content": null,
      "justify_items": null,
      "left": null,
      "margin": null,
      "max_height": null,
      "max_width": null,
      "min_height": null,
      "min_width": null,
      "object_fit": null,
      "object_position": null,
      "order": null,
      "overflow": null,
      "overflow_x": null,
      "overflow_y": null,
      "padding": null,
      "right": null,
      "top": null,
      "visibility": null,
      "width": null
     }
    },
    "7e2f3511feb245ddae0f1b6a2d662c49": {
     "model_module": "@jupyter-widgets/controls",
     "model_module_version": "1.5.0",
     "model_name": "DescriptionStyleModel",
     "state": {
      "_model_module": "@jupyter-widgets/controls",
      "_model_module_version": "1.5.0",
      "_model_name": "DescriptionStyleModel",
      "_view_count": null,
      "_view_module": "@jupyter-widgets/base",
      "_view_module_version": "1.2.0",
      "_view_name": "StyleView",
      "description_width": ""
     }
    },
    "8c322d789fda487ea247e09a5e96438e": {
     "model_module": "@jupyter-widgets/base",
     "model_module_version": "1.2.0",
     "model_name": "LayoutModel",
     "state": {
      "_model_module": "@jupyter-widgets/base",
      "_model_module_version": "1.2.0",
      "_model_name": "LayoutModel",
      "_view_count": null,
      "_view_module": "@jupyter-widgets/base",
      "_view_module_version": "1.2.0",
      "_view_name": "LayoutView",
      "align_content": null,
      "align_items": null,
      "align_self": null,
      "border": null,
      "bottom": null,
      "display": null,
      "flex": null,
      "flex_flow": null,
      "grid_area": null,
      "grid_auto_columns": null,
      "grid_auto_flow": null,
      "grid_auto_rows": null,
      "grid_column": null,
      "grid_gap": null,
      "grid_row": null,
      "grid_template_areas": null,
      "grid_template_columns": null,
      "grid_template_rows": null,
      "height": null,
      "justify_content": null,
      "justify_items": null,
      "left": null,
      "margin": null,
      "max_height": null,
      "max_width": null,
      "min_height": null,
      "min_width": null,
      "object_fit": null,
      "object_position": null,
      "order": null,
      "overflow": null,
      "overflow_x": null,
      "overflow_y": null,
      "padding": null,
      "right": null,
      "top": null,
      "visibility": null,
      "width": null
     }
    },
    "93fbafd349c14257bc2aaac5499cf7fa": {
     "model_module": "@jupyter-widgets/controls",
     "model_module_version": "1.5.0",
     "model_name": "ProgressStyleModel",
     "state": {
      "_model_module": "@jupyter-widgets/controls",
      "_model_module_version": "1.5.0",
      "_model_name": "ProgressStyleModel",
      "_view_count": null,
      "_view_module": "@jupyter-widgets/base",
      "_view_module_version": "1.2.0",
      "_view_name": "StyleView",
      "bar_color": null,
      "description_width": ""
     }
    },
    "9519a032a72c43cb98ab8c563c032a4f": {
     "model_module": "@jupyter-widgets/controls",
     "model_module_version": "1.5.0",
     "model_name": "DescriptionStyleModel",
     "state": {
      "_model_module": "@jupyter-widgets/controls",
      "_model_module_version": "1.5.0",
      "_model_name": "DescriptionStyleModel",
      "_view_count": null,
      "_view_module": "@jupyter-widgets/base",
      "_view_module_version": "1.2.0",
      "_view_name": "StyleView",
      "description_width": ""
     }
    },
    "9b8e50c2f1c74eef96a500b391498773": {
     "model_module": "@jupyter-widgets/controls",
     "model_module_version": "1.5.0",
     "model_name": "DescriptionStyleModel",
     "state": {
      "_model_module": "@jupyter-widgets/controls",
      "_model_module_version": "1.5.0",
      "_model_name": "DescriptionStyleModel",
      "_view_count": null,
      "_view_module": "@jupyter-widgets/base",
      "_view_module_version": "1.2.0",
      "_view_name": "StyleView",
      "description_width": ""
     }
    },
    "a3bfd808eaca4c07b5a0955b972577bb": {
     "model_module": "@jupyter-widgets/base",
     "model_module_version": "1.2.0",
     "model_name": "LayoutModel",
     "state": {
      "_model_module": "@jupyter-widgets/base",
      "_model_module_version": "1.2.0",
      "_model_name": "LayoutModel",
      "_view_count": null,
      "_view_module": "@jupyter-widgets/base",
      "_view_module_version": "1.2.0",
      "_view_name": "LayoutView",
      "align_content": null,
      "align_items": null,
      "align_self": null,
      "border": null,
      "bottom": null,
      "display": null,
      "flex": null,
      "flex_flow": null,
      "grid_area": null,
      "grid_auto_columns": null,
      "grid_auto_flow": null,
      "grid_auto_rows": null,
      "grid_column": null,
      "grid_gap": null,
      "grid_row": null,
      "grid_template_areas": null,
      "grid_template_columns": null,
      "grid_template_rows": null,
      "height": null,
      "justify_content": null,
      "justify_items": null,
      "left": null,
      "margin": null,
      "max_height": null,
      "max_width": null,
      "min_height": null,
      "min_width": null,
      "object_fit": null,
      "object_position": null,
      "order": null,
      "overflow": null,
      "overflow_x": null,
      "overflow_y": null,
      "padding": null,
      "right": null,
      "top": null,
      "visibility": null,
      "width": null
     }
    },
    "d85e240ef0d94c5b8e2a282d542b6ce0": {
     "model_module": "@jupyter-widgets/controls",
     "model_module_version": "1.5.0",
     "model_name": "HTMLModel",
     "state": {
      "_dom_classes": [],
      "_model_module": "@jupyter-widgets/controls",
      "_model_module_version": "1.5.0",
      "_model_name": "HTMLModel",
      "_view_count": null,
      "_view_module": "@jupyter-widgets/controls",
      "_view_module_version": "1.5.0",
      "_view_name": "HTMLView",
      "description": "",
      "description_tooltip": null,
      "layout": "IPY_MODEL_3ab56abc102a4dc496e90fe94c2619bf",
      "placeholder": "​",
      "style": "IPY_MODEL_9b8e50c2f1c74eef96a500b391498773",
      "value": " 25/25 [49:43&lt;00:00, 136.28s/it]"
     }
    },
    "e0ce3809dad54abeb5e3ef5cb8b33417": {
     "model_module": "@jupyter-widgets/controls",
     "model_module_version": "1.5.0",
     "model_name": "FloatProgressModel",
     "state": {
      "_dom_classes": [],
      "_model_module": "@jupyter-widgets/controls",
      "_model_module_version": "1.5.0",
      "_model_name": "FloatProgressModel",
      "_view_count": null,
      "_view_module": "@jupyter-widgets/controls",
      "_view_module_version": "1.5.0",
      "_view_name": "ProgressView",
      "bar_style": "success",
      "description": "",
      "description_tooltip": null,
      "layout": "IPY_MODEL_a3bfd808eaca4c07b5a0955b972577bb",
      "max": 25,
      "min": 0,
      "orientation": "horizontal",
      "style": "IPY_MODEL_f37365ae991b45859c1f92ae1215d872",
      "value": 25
     }
    },
    "e352ccd0353c46e29e4fe7f1b908b8ef": {
     "model_module": "@jupyter-widgets/controls",
     "model_module_version": "1.5.0",
     "model_name": "HBoxModel",
     "state": {
      "_dom_classes": [],
      "_model_module": "@jupyter-widgets/controls",
      "_model_module_version": "1.5.0",
      "_model_name": "HBoxModel",
      "_view_count": null,
      "_view_module": "@jupyter-widgets/controls",
      "_view_module_version": "1.5.0",
      "_view_name": "HBoxView",
      "box_style": "",
      "children": [
       "IPY_MODEL_4c8966a081864de8b167d0732f0fca62",
       "IPY_MODEL_e0ce3809dad54abeb5e3ef5cb8b33417",
       "IPY_MODEL_d85e240ef0d94c5b8e2a282d542b6ce0"
      ],
      "layout": "IPY_MODEL_8c322d789fda487ea247e09a5e96438e"
     }
    },
    "e92d7b4393c74ea8b0f7b09d9e7044a6": {
     "model_module": "@jupyter-widgets/controls",
     "model_module_version": "1.5.0",
     "model_name": "HBoxModel",
     "state": {
      "_dom_classes": [],
      "_model_module": "@jupyter-widgets/controls",
      "_model_module_version": "1.5.0",
      "_model_name": "HBoxModel",
      "_view_count": null,
      "_view_module": "@jupyter-widgets/controls",
      "_view_module_version": "1.5.0",
      "_view_name": "HBoxView",
      "box_style": "",
      "children": [
       "IPY_MODEL_57ca793e03b246a085eb585f25ee2f79",
       "IPY_MODEL_1e4fd76f39c845afa631da4f5dfbe2b7",
       "IPY_MODEL_6763c8c1302d42ddb41b86c84217a1f3"
      ],
      "layout": "IPY_MODEL_6ed37e1af0804308a2f0e2f43df0320a"
     }
    },
    "f37365ae991b45859c1f92ae1215d872": {
     "model_module": "@jupyter-widgets/controls",
     "model_module_version": "1.5.0",
     "model_name": "ProgressStyleModel",
     "state": {
      "_model_module": "@jupyter-widgets/controls",
      "_model_module_version": "1.5.0",
      "_model_name": "ProgressStyleModel",
      "_view_count": null,
      "_view_module": "@jupyter-widgets/base",
      "_view_module_version": "1.2.0",
      "_view_name": "StyleView",
      "bar_color": null,
      "description_width": ""
     }
    }
   }
  }
 },
 "nbformat": 4,
 "nbformat_minor": 4
}
